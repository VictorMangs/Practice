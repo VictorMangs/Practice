{
 "cells": [
  {
   "cell_type": "code",
   "execution_count": 3,
   "id": "ae3519db",
   "metadata": {},
   "outputs": [],
   "source": [
    "def max_hourglass_sum(matrix: list[list[int]]) -> int:\n",
    "    # your code here\n",
    "    # Handle Emptiness\n",
    "    if not matrix:\n",
    "      raise ValueError(\"Given matrix is empty. Please provide non-empty matrix.\")\n",
    "    \n",
    "    # Initialize answer below minimum (-9*7 = -63)\n",
    "    answer = -100\n",
    "\n",
    "    # get size (I know it's 6 but just wanted to use len)\n",
    "    size = len(matrix)\n",
    "  \n",
    "    for row in range(size-2):\n",
    "      for column in range(size-2):\n",
    "        a = matrix[row][column]\n",
    "        b = matrix[row][column+1]\n",
    "        c = matrix[row][column+2]\n",
    "        d = matrix[row+1][column+1]\n",
    "        e = matrix[row+2][column]\n",
    "        f = matrix[row+2][column+1]\n",
    "        g = matrix[row+2][column+2]\n",
    "\n",
    "        temp_sum = a+b+c+d+e+f+g\n",
    "        if temp_sum > answer:\n",
    "          answer = temp_sum\n",
    "\n",
    "    return answer\n",
    "\n",
    "matrix = [\n",
    "  [1, 1, 1, 0, 0, 0],\n",
    "  [0, 1, 0, 0, 0, 0],\n",
    "  [1, 1, 1, 0, 0, 0],\n",
    "  [0, 0, 2, 4, 4, 0],\n",
    "  [0, 0, 0, 2, 0, 0],\n",
    "  [0, 0, 1, 2, 4, 0]\n",
    "]"
   ]
  },
  {
   "cell_type": "code",
   "execution_count": null,
   "id": "7bbc486a",
   "metadata": {},
   "outputs": [
    {
     "name": "stdout",
     "output_type": "stream",
     "text": [
      "19\n"
     ]
    }
   ],
   "source": [
    "def numberOfItems(s, startIndices, endIndices):\n",
    "    n = len(s)\n",
    "    \n",
    "    # Precompute prefix sum of items within compartments\n",
    "    prefix = [0] * (n + 1)\n",
    "    items = 0\n",
    "    last_pipe = -1\n",
    "    for i in range(n):\n",
    "        if s[i] == '|':\n",
    "            last_pipe = i\n",
    "        if last_pipe != -1 and s[i] == '*':\n",
    "            items += 1\n",
    "        prefix[i + 1] = items if s[i] != '|' else prefix[i + 1]\n",
    "\n",
    "    # Precompute nearest left/right pipes\n",
    "    left = [-1] * n\n",
    "    right = [-1] * n\n",
    "    \n",
    "    last = -1\n",
    "    for i in range(n):\n",
    "        if s[i] == '|':\n",
    "            last = i\n",
    "        left[i] = last\n",
    "        \n",
    "    last = -1\n",
    "    for i in reversed(range(n)):\n",
    "        if s[i] == '|':\n",
    "            last = i\n",
    "        right[i] = last\n",
    "\n",
    "    result = []\n",
    "    for start, end in zip(startIndices, endIndices):\n",
    "        l = right[start - 1]\n",
    "        r = left[end - 1]\n",
    "        if l != -1 and r != -1 and l < r:\n",
    "            result.append(prefix[r + 1] - prefix[l + 1])\n",
    "        else:\n",
    "            result.append(0)\n",
    "\n",
    "    return result\n",
    "\n",
    "s = \"|**|*|*\"\n",
    "starts = \n",
    "ends = \n",
    "numberOfItems()\n"
   ]
  },
  {
   "cell_type": "code",
   "execution_count": 1,
   "id": "3a76dcd7",
   "metadata": {},
   "outputs": [],
   "source": [
    "matrix = [\n",
    " [ 1, 2, 3 ],\n",
    " [ 4, 5, 6 ],\n",
    " [ 7, 8, 9 ]\n",
    "]"
   ]
  },
  {
   "cell_type": "code",
   "execution_count": null,
   "id": "dc99895d",
   "metadata": {},
   "outputs": [],
   "source": [
    "incr = 0\n",
    "ans = []\n",
    "m = len(matrix)\n",
    "n = len(matrix[0])\n",
    "for rows in range(m):\n",
    "    start = incr\n",
    "    end = m-incr-1\n",
    "    ans.append(matrix[start:end])\n",
    "    start+=1\n",
    "    for colums in range(start,n-incr):\n",
    "        ans.append(matrix[column][n-row])\n",
    "        \n",
    "\n"
   ]
  },
  {
   "cell_type": "code",
   "execution_count": null,
   "id": "51ec3a45",
   "metadata": {},
   "outputs": [
    {
     "name": "stdout",
     "output_type": "stream",
     "text": [
      "Min value = 2\n"
     ]
    }
   ],
   "source": [
    "lst = [11,12,15,18,2,5,6,8]\n",
    "left = 0\n",
    "right = len(lst) -1\n",
    "\n",
    "\n",
    "if lst[left]<=lst[right]:\n",
    "    print(f\"Min value = {lst[left]}\")\n",
    "else:\n",
    "    while left<=right:\n",
    "        mid = (left+right)//2\n",
    "        if (lst[mid] <= lst[mid-1]) and (lst[mid]<=lst[mid+1]):\n",
    "            print(f\"Min value = {lst[mid]}\")\n",
    "            print(\"\")\n",
    "            break\n",
    "        elif lst[mid]<=lst[right]:\n",
    "            right = mid-1\n",
    "        elif lst[mid]>=lst[left]:\n",
    "            left = mid+1\n",
    "    \n",
    "\n"
   ]
  },
  {
   "cell_type": "code",
   "execution_count": null,
   "id": "447eeace",
   "metadata": {},
   "outputs": [
    {
     "name": "stdout",
     "output_type": "stream",
     "text": [
      "Comparing: 112, 62, 119, 108\n",
      "\n",
      "Comparing: 42, 98, 83, 114\n",
      "\n",
      "Comparing: 56, 15, 49, 43\n",
      "\n",
      "Comparing: 125, 78, 56, 101\n",
      "\n",
      "subarraysum\n"
     ]
    }
   ],
   "source": [
    "matrix = [\n",
    "  [112, 42, 83, 119],\n",
    "  [56, 125, 56, 49],\n",
    "  [15, 78, 101, 43],\n",
    "  [62, 98, 114, 108]\n",
    "]\n",
    "\n",
    "def flippingMatrix(matrix):\n",
    "    subarraysum = 0\n",
    "    for i in range(len(matrix) // 2):\n",
    "        for j in range(len(matrix) // 2):\n",
    "            regular = matrix[i][j]\n",
    "            row_flip = matrix[-i - 1][j]\n",
    "            column_flip = matrix[i][-j - 1]\n",
    "            diagonal_flip = matrix[-i - 1][-j - 1]\n",
    "            print(f\"Comparing: {regular}, {row_flip}, {column_flip}, {diagonal_flip}\")\n",
    "            print()\n",
    "            subarraysum += max((matrix[i][j], matrix[-i - 1][j], matrix[i][-j - 1], matrix[-i - 1][-j - 1]))\n",
    "    return subarraysum\n",
    "\n",
    "print(flippingMatrix(matrix))"
   ]
  },
  {
   "cell_type": "code",
   "execution_count": null,
   "id": "e41e6f71",
   "metadata": {},
   "outputs": [
    {
     "name": "stdout",
     "output_type": "stream",
     "text": [
      "[1, 2, 3]\n"
     ]
    }
   ],
   "source": [
    "from collections import Counter\n",
    "import heapq\n",
    "k = 3\n",
    "nums = [1,4,2,2,2,3,1,3]\n",
    "ans_map = Counter(nums)\n",
    "\n",
    "\n",
    "min_heap = []\n",
    "for num,freq in ans_map.items():\n",
    "\tif len(min_heap) < k:\n",
    "\t\theapq.heappush(min_heap,(freq,num))\n",
    "\telse:\n",
    "\t\tif freq > min_heap[0][0]:\n",
    "\t\t\theapq.heappop(min_heap)\n",
    "\t\t\theapq.heappush(min_heap,(freq,num))\n",
    "\n",
    "top_k_elements = [element for freq,element in min_heap]\n",
    "\n",
    "print(top_k_elements)"
   ]
  },
  {
   "cell_type": "code",
   "execution_count": 1,
   "id": "ee0c867f",
   "metadata": {},
   "outputs": [
    {
     "name": "stdout",
     "output_type": "stream",
     "text": [
      "[1, 1, 2, 6]\n",
      "[24, 12, 8, 6]\n"
     ]
    }
   ],
   "source": [
    "from typing import List\n",
    "nums = [1,2,3,4]\n",
    "n = len(nums)\n",
    "ans = [1]*n\n",
    "prefix_product = 1\n",
    "\n",
    "for i in range(len(nums)):\n",
    "  ans[i] = prefix_product\n",
    "  prefix_product*=nums[i]\n",
    "  # print(prefix_product)\n",
    "print(ans)\n",
    "suffix_product = 1\n",
    "for i in range(n-1,-1,-1):\n",
    "\tans[i] *= suffix_product\n",
    "\tsuffix_product*=nums[i]\n",
    "\t# print(suffix_product)\n",
    "     \n",
    "print(ans)\n"
   ]
  },
  {
   "cell_type": "code",
   "execution_count": 28,
   "id": "707a55c0",
   "metadata": {},
   "outputs": [
    {
     "name": "stdout",
     "output_type": "stream",
     "text": [
      "Encoded string: 4#lint4#code4#love3#you\n",
      "Decoded string: ['lint', 'code', 'love', 'you']\n",
      "Encoded string: 0#0#0#0#\n",
      "Decoded string: ['', '', '', '']\n",
      "Encoded string: 4#l!$t4#c#d#4#l6v*3#y*u\n",
      "Decoded string: ['l!$t', 'c#d#', 'l6v*', 'y*u']\n"
     ]
    }
   ],
   "source": [
    "from typing import List\n",
    "\n",
    "class Codec:\n",
    "    def __init__(self, delim=\"#\"):\n",
    "      self.delim = delim\n",
    "    \n",
    "    def encode(self, strs: List[str]) -> str:\n",
    "      # Encodes a list of strings to a single string.\n",
    "      ans = \"\"  \n",
    "      for s in strs:\n",
    "        ans+=f\"{len(s)}{self.delim}{s}\"\n",
    "\n",
    "      return ans\n",
    "          \n",
    "      \n",
    "    def decode(self, s: str) -> List[str]:\n",
    "      # Decodes a single string to a list of strings.\n",
    "      ans = []\n",
    "      point = 0\n",
    "      while point<len(s)-1:\n",
    "        i = point\n",
    "        while s[i] != self.delim:\n",
    "          i+=1\n",
    "\n",
    "        length = int(s[point:i])\n",
    "        point=i+1\n",
    "        ans.append(s[point:point+length])\n",
    "        point+=length\n",
    "\n",
    "      return ans\n",
    "\n",
    "codec = Codec()\n",
    "tests = [[\"lint\",\"code\",\"love\",\"you\"],[\"\",\"\",\"\",\"\"],[\"l!$t\",\"c#d#\",\"l6v*\",\"y*u\"]]\n",
    "for test in tests:\n",
    "  encoded_string = codec.encode(test)\n",
    "  print(f\"Encoded string: {encoded_string}\")\n",
    "  decoded_string =  codec.decode(encoded_string)\n",
    "  print(f\"Decoded string: {decoded_string}\")\n",
    "  \n"
   ]
  },
  {
   "cell_type": "code",
   "execution_count": 10,
   "id": "4cc5e7db",
   "metadata": {},
   "outputs": [
    {
     "name": "stdout",
     "output_type": "stream",
     "text": [
      "2\n"
     ]
    }
   ],
   "source": [
    "nums = [1,1,1]\n",
    "k = 2\n",
    "prefix = 0\n",
    "count = 0\n",
    "freq = {0:1}\n",
    "for num in nums:\n",
    "\tprefix += num\n",
    "\t# If prefix - k has been seen, every occurrence marks a subarray ending here that sums to k\n",
    "\tcount += freq.get(prefix - k, 0)\n",
    "\t# Record this prefix sum\n",
    "\n",
    "\tfreq[prefix] = freq.get(prefix, 0) + 1\n",
    "\n",
    "print(count)"
   ]
  },
  {
   "cell_type": "code",
   "execution_count": 1,
   "id": "3a52e21c",
   "metadata": {},
   "outputs": [
    {
     "name": "stdout",
     "output_type": "stream",
     "text": [
      "2\n"
     ]
    }
   ],
   "source": [
    "s = \"pwwkew\"\n",
    "tracker = set()\n",
    "p = 0\n",
    "n = len(s)-2\n",
    "ans = 0\n",
    "\n",
    "while p<n:\n",
    "\tif s[p] not in tracker:\n",
    "\t\t\ttracker.add(s[p])\n",
    "\t\t\tp+=1\n",
    "\t\n",
    "\tif s[p] in tracker:\n",
    "\t\tans = max(ans,len(tracker))\n",
    "\t\ttracker.remove(s[p])\n",
    "\t\t\n",
    "\t\n",
    "\n",
    "print(ans)"
   ]
  },
  {
   "cell_type": "code",
   "execution_count": null,
   "id": "b5a06ec4",
   "metadata": {},
   "outputs": [
    {
     "name": "stdout",
     "output_type": "stream",
     "text": [
      "1\n",
      "0\n",
      "2333606220\n"
     ]
    }
   ],
   "source": [
    "def grid_traveller(n,m,mem={}):\n",
    "\t\n",
    "\tkey = (n,m)\n",
    "\tif key in mem: return mem[key]\n",
    "\n",
    "\tif n==0 or m == 0:\treturn 0\n",
    "\t  \n",
    "\tif n==1 and m ==1:\treturn 1\n",
    "\t  \n",
    "\tmem[key] = grid_traveller(n-1,m,mem) + grid_traveller(n,m-1,mem)\n",
    "\treturn mem[(n,m)]\n",
    "\n",
    "print(grid_traveller(1,1))\n",
    "print(grid_traveller(1,0))\n",
    "print(grid_traveller(18,18))\n",
    "\n"
   ]
  }
 ],
 "metadata": {
  "kernelspec": {
   "display_name": "Python 3",
   "language": "python",
   "name": "python3"
  },
  "language_info": {
   "codemirror_mode": {
    "name": "ipython",
    "version": 3
   },
   "file_extension": ".py",
   "mimetype": "text/x-python",
   "name": "python",
   "nbconvert_exporter": "python",
   "pygments_lexer": "ipython3",
   "version": "3.13.1"
  }
 },
 "nbformat": 4,
 "nbformat_minor": 5
}
