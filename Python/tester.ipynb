{
 "cells": [
  {
   "cell_type": "code",
   "execution_count": null,
   "metadata": {},
   "outputs": [],
   "source": [
    "import math\n",
    "\n",
    "teaspoons = {'tablespoons':1/3,'cups':1/48,'pint':1/96,'quart':1/192,'gallon':1/768}\n",
    "tablespoon = {'teaspoons':3,'cups':1/16,'pint':1/32,'quart':1/64,'gallon':1/256}\n",
    "cup = {'teaspoons':48,'tablespoons':16,'pint':1/2,'quart':1/4,'gallon':1/16}\n",
    "pint = {'teaspoons':96,'tablespoons':32,'cup':2,'quart':1/2,'gallon':1/8}\n",
    "quart = {'teaspoons':192,'tablespoons':64,'cup':4,'pint':2,'gallon':1/4}\n",
    "gallon = {'teaspoons':768,'tablespoons':256,'cup':16,'pint':8,'quart':4}\n",
    "\n",
    "\n"
   ]
  },
  {
   "cell_type": "code",
   "execution_count": 4,
   "metadata": {},
   "outputs": [],
   "source": [
    "import yaml\n",
    "\n",
    "with open('../Yaml/test_yaml.yml') as f:\n",
    "        data = yaml.safe_load(f)"
   ]
  },
  {
   "cell_type": "code",
   "execution_count": 5,
   "metadata": {},
   "outputs": [
    {
     "data": {
      "text/plain": [
       "{'mp3': ['https://www.youtube.com/watch?v=BtAQfFWYrig',\n",
       "  'https://www.youtube.com/watch?v=9jRKsH8_OWQ',\n",
       "  None,\n",
       "  None,\n",
       "  None,\n",
       "  None,\n",
       "  None,\n",
       "  None],\n",
       " 'mp4': [None]}"
      ]
     },
     "execution_count": 5,
     "metadata": {},
     "output_type": "execute_result"
    }
   ],
   "source": [
    "data"
   ]
  }
 ],
 "metadata": {
  "kernelspec": {
   "display_name": "Python 3.10.4 64-bit",
   "language": "python",
   "name": "python3"
  },
  "language_info": {
   "codemirror_mode": {
    "name": "ipython",
    "version": 3
   },
   "file_extension": ".py",
   "mimetype": "text/x-python",
   "name": "python",
   "nbconvert_exporter": "python",
   "pygments_lexer": "ipython3",
   "version": "3.10.4"
  },
  "orig_nbformat": 4,
  "vscode": {
   "interpreter": {
    "hash": "dc5f6f95507b3c79afa471400e127b5ba7a2baa405bb9606aab493ad1eaf1415"
   }
  }
 },
 "nbformat": 4,
 "nbformat_minor": 2
}
