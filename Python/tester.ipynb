{
 "cells": [
  {
   "cell_type": "code",
   "execution_count": null,
   "metadata": {},
   "outputs": [],
   "source": [
    "import math\n",
    "\n",
    "teaspoons = {'tablespoons':1/3,'cups':1/48,'pint':1/96,'quart':1/192,'gallon':1/768}\n",
    "tablespoon = {'teaspoons':3,'cups':1/16,'pint':1/32,'quart':1/64,'gallon':1/256}\n",
    "cup = {'teaspoons':48,'tablespoons':16,'pint':1/2,'quart':1/4,'gallon':1/16}\n",
    "pint = {'teaspoons':96,'tablespoons':32,'cup':2,'quart':1/2,'gallon':1/8}\n",
    "quart = {'teaspoons':192,'tablespoons':64,'cup':4,'pint':2,'gallon':1/4}\n",
    "gallon = {'teaspoons':768,'tablespoons':256,'cup':16,'pint':8,'quart':4}\n",
    "\n",
    "\n"
   ]
  },
  {
   "cell_type": "code",
   "execution_count": 7,
   "metadata": {},
   "outputs": [
    {
     "name": "stderr",
     "output_type": "stream",
     "text": [
      "C:\\Users\\Victor2021\\AppData\\Local\\Temp\\ipykernel_8544\\1840916755.py:29: FutureWarning: save is not part of the public API, usage can give unexpected results and will be removed in a future version\n",
      "  writer.save()\n"
     ]
    }
   ],
   "source": [
    "import fitz\n",
    "import pandas as pd\n",
    "\n",
    "def extract_tables_from_pdf(input_pdf, output_excel):\n",
    "    # Open the PDF file\n",
    "    with fitz.open(input_pdf) as doc:\n",
    "        # Get the total number of pages in the PDF\n",
    "        total_pages = doc.page_count\n",
    "        \n",
    "        # Create a Pandas Excel writer\n",
    "        writer = pd.ExcelWriter(output_excel, engine='xlsxwriter')\n",
    "        \n",
    "        # Iterate over each page\n",
    "        for page_number in range(total_pages):\n",
    "            # Extract the page as a text\n",
    "            page = doc.load_page(page_number)\n",
    "            text = page.get_text(\"text\")\n",
    "            \n",
    "            # Check if the page contains any table-like structure\n",
    "            if any('|' in line for line in text.split('\\n')):\n",
    "                # Split the text into lines and filter out empty lines\n",
    "                lines = [line.strip() for line in text.split('\\n') if line.strip()]\n",
    "                \n",
    "                # Create a DataFrame from the lines and write it to the Excel file\n",
    "                df = pd.DataFrame([line.split('|') for line in lines])\n",
    "                df.to_excel(writer, sheet_name=f'Page{page_number+1}', index=False)\n",
    "        \n",
    "        # Save the Excel file\n",
    "        writer.save()\n",
    "\n",
    "# Provide the input PDF file path and the output Excel file path\n",
    "input_pdf = 'C:/Users/Victor2021/Downloads/05-04-2023_bank_statement.pdf'\n",
    "output_excel = 'output.xlsx'\n",
    "\n",
    "# Call the function to extract tables and save to Excel\n",
    "extract_tables_from_pdf(input_pdf, output_excel)"
   ]
  },
  {
   "cell_type": "code",
   "execution_count": 10,
   "metadata": {},
   "outputs": [],
   "source": [
    "import json\n",
    "f = json.load(open('../json/linter_test.json'))\n"
   ]
  },
  {
   "cell_type": "code",
   "execution_count": 13,
   "metadata": {},
   "outputs": [
    {
     "data": {
      "text/plain": [
       "'s.\",\\n            \"remediation\": \"Ensure containers do not allow privilege escalat'"
      ]
     },
     "execution_count": 13,
     "metadata": {},
     "output_type": "execute_result"
    }
   ],
   "source": [
    "f[10600:10681]"
   ]
  }
 ],
 "metadata": {
  "kernelspec": {
   "display_name": "Python 3.10.4 64-bit",
   "language": "python",
   "name": "python3"
  },
  "language_info": {
   "codemirror_mode": {
    "name": "ipython",
    "version": 3
   },
   "file_extension": ".py",
   "mimetype": "text/x-python",
   "name": "python",
   "nbconvert_exporter": "python",
   "pygments_lexer": "ipython3",
   "version": "3.11.4"
  },
  "orig_nbformat": 4,
  "vscode": {
   "interpreter": {
    "hash": "dc5f6f95507b3c79afa471400e127b5ba7a2baa405bb9606aab493ad1eaf1415"
   }
  }
 },
 "nbformat": 4,
 "nbformat_minor": 2
}
